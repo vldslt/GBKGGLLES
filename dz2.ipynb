{
  "nbformat": 4,
  "nbformat_minor": 0,
  "metadata": {
    "colab": {
      "name": "dz2.ipynb",
      "private_outputs": true,
      "provenance": [],
      "collapsed_sections": [],
      "authorship_tag": "ABX9TyPjqXTmgcAIiZ0hOAc36fnd",
      "include_colab_link": true
    },
    "kernelspec": {
      "name": "python3",
      "display_name": "Python 3"
    },
    "language_info": {
      "name": "python"
    },
    "accelerator": "GPU"
  },
  "cells": [
    {
      "cell_type": "markdown",
      "metadata": {
        "id": "view-in-github",
        "colab_type": "text"
      },
      "source": [
        "<a href=\"https://colab.research.google.com/github/vldslt/GBKGGLLES/blob/main/dz2.ipynb\" target=\"_parent\"><img src=\"https://colab.research.google.com/assets/colab-badge.svg\" alt=\"Open In Colab\"/></a>"
      ]
    },
    {
      "cell_type": "code",
      "metadata": {
        "id": "r_3KgsXjylPg"
      },
      "source": [
        "import numpy as np\n",
        "import pandas as pd\n",
        "import xgboost as xgb\n",
        "import matplotlib.pyplot as plt\n",
        "from sklearn import model_selection\n",
        "from sklearn.metrics import accuracy_score\n",
        "from sklearn.preprocessing import LabelEncoder\n",
        "\n",
        "from sklearn.model_selection import train_test_split\n",
        "from sklearn.metrics import roc_auc_score"
      ],
      "execution_count": null,
      "outputs": []
    },
    {
      "cell_type": "code",
      "metadata": {
        "id": "qkZbSbuV0LrA"
      },
      "source": [
        "data = pd.read_csv(\n",
        "    \"assignment_2_test.csv\"\n",
        ")\n",
        "print(\"data.shape = {} rows, {} cols\".format(*data.shape))\n",
        "data.head(n=10)"
      ],
      "execution_count": null,
      "outputs": []
    },
    {
      "cell_type": "markdown",
      "metadata": {
        "id": "tIs2wG8SEqch"
      },
      "source": [
        "обработать категориальные признаки любым способом (который вы знаете) и добавить их к данным.\n"
      ]
    },
    {
      "cell_type": "code",
      "metadata": {
        "id": "WaIVtXfY3akd"
      },
      "source": [
        "data.dtypes.value_counts()\n"
      ],
      "execution_count": null,
      "outputs": []
    },
    {
      "cell_type": "markdown",
      "metadata": {
        "id": "6zJisZlvAtmD"
      },
      "source": [
        "отобрать только числовые признаки и обучить модель XGBoost с параметром booster = gbtree. Обучать алгоритм до тех пор, пока метрика качества не перестанет улучшаться на валидационной выборке в течение определенного числа итераций (выбрать значение самостоятельно)."
      ]
    },
    {
      "cell_type": "code",
      "metadata": {
        "id": "6kF0XP5p4Nqx"
      },
      "source": [
        "data1 = data.select_dtypes(include=['float32', 'int64'])\n",
        "print(data1)"
      ],
      "execution_count": null,
      "outputs": []
    },
    {
      "cell_type": "code",
      "metadata": {
        "id": "hfxZuOct_KeV"
      },
      "source": [
        "target = data1[\"TransactionDT\"]\n",
        "data1 = data1.drop([], axis=1)\n",
        "print(\"data1.shape = {} rows, {} cols\".format(*data1.shape))"
      ],
      "execution_count": null,
      "outputs": []
    },
    {
      "cell_type": "code",
      "metadata": {
        "id": "kBdFAsXT9WCn"
      },
      "source": [
        "x_train, x_valid = train_test_split(\n",
        "    data1, train_size=0.8, random_state=1\n",
        ")\n",
        "y_train, y_valid = train_test_split(\n",
        "    target,train_size=0.8, random_state=1\n",
        ")\n",
        "print(\"x_train.shape = {} rows, {} cols\".format(*x_train.shape))\n",
        "print(\"x_valid.shape = {} rows, {} cols\".format(*x_valid.shape))"
      ],
      "execution_count": null,
      "outputs": []
    },
    {
      "cell_type": "code",
      "metadata": {
        "id": "3_Qb0azl4bA3"
      },
      "source": [
        "params = {\n",
        "    \"booster\": \"gbtree\",\n",
        "    \"objective\": \"binary:logistic\",\n",
        "    \"eval_metric\": \"auc\",\n",
        "    \"learning_rate\": 0.1,\n",
        "    \"n_estimators\": 1000,\n",
        "    \"reg_lambda\": 100,\n",
        "    \"max_depth\": 4,\n",
        "    \"gamma\": 2,\n",
        "    \"nthread\": 6,\n",
        "    \"seed\": 27\n",
        "}"
      ],
      "execution_count": null,
      "outputs": []
    },
    {
      "cell_type": "code",
      "metadata": {
        "id": "k_4b_iPk6Hy8"
      },
      "source": [
        "dtrain = xgb.DMatrix(\n",
        "    data=x_train, label=y_train\n",
        ")\n",
        "dvalid = xgb.DMatrix(\n",
        "    data=x_valid, label=y_valid\n",
        ")"
      ],
      "execution_count": null,
      "outputs": []
    },
    {
      "cell_type": "code",
      "metadata": {
        "id": "7zCBuCO8AgRK"
      },
      "source": [
        "model = xgb.train(\n",
        "    params=params,\n",
        "    dtrain=dtrain,\n",
        "    num_boost_round=100,\n",
        "    early_stopping_rounds=50,\n",
        "    evals=[(dtrain, \"train\"), (dvalid, \"valid\")],\n",
        "    verbose_eval=10,\n",
        "    maximize=True,\n",
        ")"
      ],
      "execution_count": null,
      "outputs": []
    },
    {
      "cell_type": "markdown",
      "metadata": {
        "id": "L8Do8L38DmKz"
      },
      "source": [
        "*ШТОШ, ПОЛУЧИЛ ОШИБКУ, ТАК И НЕ ПОНЯЛ ПОЧЕМУ*\n"
      ]
    },
    {
      "cell_type": "markdown",
      "metadata": {
        "id": "ri53LwfTLtfL"
      },
      "source": [
        "Задание 4: для числовых признаков обучить модель LightGBM. Обучать алгоритм до тех пор, пока метрика качества не перестанет улучшаться на валидационной выборке в течение определенного числа итераций (выбрать значение самостоятельно)."
      ]
    },
    {
      "cell_type": "code",
      "metadata": {
        "id": "QZEmZ6y6My0t"
      },
      "source": [
        "import numpy as np\n",
        "import lightgbm as lgb\n",
        "\n",
        "from sklearn.model_selection import train_test_split\n",
        "from sklearn.metrics import roc_auc_score\n",
        "data = pd.read_csv(\n",
        "    \"assignment_2_test.csv\"\n",
        ")\n",
        "print(\"data.shape = {} rows, {} cols\".format(*data.shape))\n",
        "print(data)\n",
        "data1 = data.select_dtypes(include=['float32', 'int64'])\n",
        "print(data1)"
      ],
      "execution_count": null,
      "outputs": []
    },
    {
      "cell_type": "code",
      "metadata": {
        "id": "1Z2_alhBNGKl"
      },
      "source": [
        "target = data1[\"card1\"]\n",
        "data1 = data1.drop([], axis=1)\n",
        "print(\"data.shape = {} rows, {} cols\".format(*data.shape))"
      ],
      "execution_count": null,
      "outputs": []
    },
    {
      "cell_type": "code",
      "metadata": {
        "id": "Ldazh6I5N4Cx"
      },
      "source": [
        "x_train, x_valid = train_test_split(\n",
        "    data, train_size=0.8, random_state=1\n",
        ")\n",
        "y_train, y_valid = train_test_split(\n",
        "    target, train_size=0.8, random_state=1\n",
        ")\n",
        "print(\"x_train.shape = {} rows, {} cols\".format(*x_train.shape))\n",
        "print(\"x_valid.shape = {} rows, {} cols\".format(*x_valid.shape))"
      ],
      "execution_count": null,
      "outputs": []
    },
    {
      "cell_type": "code",
      "metadata": {
        "id": "WYokzAxVODTS"
      },
      "source": [
        "params = {\n",
        "    \"boosting_type\": \"gbdt\",\n",
        "    \"objective\": \"binary\",\n",
        "    \"metric\": \"auc\",\n",
        "    \"learning_rate\": 0.01,\n",
        "    \"n_estimators\": 200,\n",
        "    \"n_jobs\": 6,\n",
        "    \"seed\": 27\n",
        "}"
      ],
      "execution_count": null,
      "outputs": []
    },
    {
      "cell_type": "code",
      "metadata": {
        "id": "80oo9IBcOFzo"
      },
      "source": [
        "dtrain = lgb.Dataset(\n",
        "    data=x_train, label=y_train\n",
        ")\n",
        "dvalid = lgb.Dataset(\n",
        "    data=x_valid, label=y_valid\n",
        ")\n",
        "\n",
        "model = lgb.train(\n",
        "    params=params,\n",
        "    train_set=dtrain,\n",
        "    num_boost_round=200,\n",
        "    valid_sets=[dtrain, dvalid],\n",
        "    categorical_feature=\"auto\",\n",
        "    early_stopping_rounds=50,\n",
        "    verbose_eval=8\n",
        ")"
      ],
      "execution_count": null,
      "outputs": []
    },
    {
      "cell_type": "markdown",
      "metadata": {
        "id": "W70TrjVOL7f0"
      },
      "source": [
        "*ОПЯТЬ ОШИБКА, ДУМАЮ ЭТО СВЯЗАНО С ОПРЕДЕЛЕНИЕМ ТАРГЕТА CARD1, НО ДРУГИХ ВАРИАНТОВ ПРОСТО НЕ ВИЖУ*"
      ]
    },
    {
      "cell_type": "markdown",
      "metadata": {
        "id": "7VX-H-xvMV9t"
      },
      "source": [
        "для числовых признаков обучить модель CatBoost. Обучать алгоритм до тех пор, пока метрика качества не перестанет улучшаться на валидационной выборке в течение определенного числа итераций (выбрать значение самостоятельно)."
      ]
    },
    {
      "cell_type": "code",
      "metadata": {
        "id": "9RR4mvYWTNjl"
      },
      "source": [
        ""
      ],
      "execution_count": null,
      "outputs": []
    },
    {
      "cell_type": "code",
      "metadata": {
        "id": "wS9ptbQlRwF5"
      },
      "source": [
        "import warnings\n",
        "import numpy as np\n",
        "import pandas as pd\n",
        "! pip install catboost\n",
        "import catboost as cb\n",
        "import matplotlib.pyplot as plt\n",
        "\n",
        "from sklearn.model_selection import train_test_split\n",
        "from sklearn.metrics import roc_auc_score\n",
        "\n",
        "warnings.simplefilter(\"ignore\")"
      ],
      "execution_count": null,
      "outputs": []
    },
    {
      "cell_type": "code",
      "metadata": {
        "id": "h1h-Zi3xTbjG"
      },
      "source": [
        "data = pd.read_csv(\n",
        "    \"assignment_2_test.csv\"\n",
        ")\n",
        "print(\"data.shape = {} rows, {} cols\".format(*data.shape))\n",
        "data.head(n=10)"
      ],
      "execution_count": null,
      "outputs": []
    },
    {
      "cell_type": "code",
      "metadata": {
        "id": "pVhj-FnOTcXl"
      },
      "source": [
        ""
      ],
      "execution_count": null,
      "outputs": []
    },
    {
      "cell_type": "code",
      "metadata": {
        "id": "34gRVb_eTlaB"
      },
      "source": [
        "target = data1[\"target\"]\n",
        "data1 = data1.drop([], axis=1)\n",
        "print(\"data.shape = {} rows, {} cols\".format(*data1.shape))"
      ],
      "execution_count": null,
      "outputs": []
    },
    {
      "cell_type": "code",
      "metadata": {
        "id": "YmTMPEHWT01c"
      },
      "source": [
        "x_train, x_valid = train_test_split(\n",
        "    data, train_size=0.8, random_state=1\n",
        ")\n",
        "y_train, y_valid = train_test_split(\n",
        "    target, train_size=0.8, random_state=1\n",
        ")\n",
        "print(\"x_train.shape = {} rows, {} cols\".format(*x_train.shape))\n",
        "print(\"x_valid.shape = {} rows, {} cols\".format(*x_valid.shape))"
      ],
      "execution_count": null,
      "outputs": []
    },
    {
      "cell_type": "markdown",
      "metadata": {
        "id": "qRqG5E3CVG3z"
      },
      "source": [
        "*и оптять всё посыпалось\n",
        "вопрос, в какой момент я пошел не туда?*"
      ]
    }
  ]
}